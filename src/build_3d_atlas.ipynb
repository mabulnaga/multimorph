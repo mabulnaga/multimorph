{
  "cells": [
    {
      "cell_type": "markdown",
      "id": "f0556f48",
      "metadata": {
        "id": "f0556f48"
      },
      "source": [
        "# MultiMorph 3D Atlas Construction Demo\n"
      ]
    },
    {
      "cell_type": "markdown",
      "id": "f07e5452",
      "metadata": {
        "id": "f07e5452"
      },
      "source": [
        "This demo will cover building a 3D atlas using a pre-trained model."
      ]
    },
    {
      "cell_type": "markdown",
      "id": "34ca21c7",
      "metadata": {
        "id": "34ca21c7"
      },
      "source": [
        "#### Load libraries and dependencies"
      ]
    },
    {
      "cell_type": "code",
      "execution_count": null,
      "id": "79421383",
      "metadata": {
        "id": "79421383"
      },
      "outputs": [],
      "source": [
        "!pip install neurite"
      ]
    },
    {
      "cell_type": "code",
      "source": [
        "!git clone https://github.com/mabulnaga/multimorph.git\n",
        "%cd multimorph\n",
        "import sys\n",
        "sys.path.append('/content/multimorph/src')"
      ],
      "metadata": {
        "id": "KuQUh4OtXG1B"
      },
      "id": "KuQUh4OtXG1B",
      "execution_count": null,
      "outputs": []
    },
    {
      "cell_type": "code",
      "execution_count": null,
      "id": "c5ed2404",
      "metadata": {
        "id": "c5ed2404"
      },
      "outputs": [],
      "source": [
        "import os\n",
        "os.environ['NEURITE_BACKEND'] = 'pytorch'\n",
        "os.environ['VXM_BACKEND'] = 'pytorch'\n",
        "import time\n",
        "import torch\n",
        "import torch.nn as nn\n",
        "import torch.nn.functional as F\n",
        "from torch.utils.data import DataLoader, Dataset\n",
        "import numpy as np\n",
        "import argparse\n",
        "import models as models\n",
        "import pandas as pd\n",
        "from dataloader import SubGroupLoader3D, PadtoDivisible\n",
        "from typing import Tuple\n",
        "import nibabel as nib\n",
        "from build_atlas_inference import load_model, build_atlas\n",
        "import matplotlib.pyplot as plt"
      ]
    },
    {
      "cell_type": "markdown",
      "id": "69ad49d1",
      "metadata": {
        "id": "69ad49d1"
      },
      "source": [
        "## Specify the locations of your data\n",
        "The data should be organized as a CSV with two headers, one for the full path to the 3D images and one for the segmentations. The segmentations are optional. We will use a small dataset of 4 OASIS-3 images for demonstration. We also specify the CSV header names pointing to the images, and the segmentations. Note that the segmentations are optional."
      ]
    },
    {
      "cell_type": "code",
      "execution_count": null,
      "id": "cafacc95",
      "metadata": {
        "id": "cafacc95"
      },
      "outputs": [],
      "source": [
        "csv_path = 'data/oasis_3d_data/metadata.csv'\n",
        "img_header_name = 'img_path'\n",
        "segmentation_header_name = 'segmentation_path'\n",
        "atlas_save_path = 'results/'"
      ]
    },
    {
      "cell_type": "markdown",
      "id": "862d31e1",
      "metadata": {
        "id": "862d31e1"
      },
      "source": []
    },
    {
      "cell_type": "markdown",
      "id": "20808735",
      "metadata": {
        "id": "20808735"
      },
      "source": [
        "Specify the location of the model weights"
      ]
    },
    {
      "cell_type": "code",
      "execution_count": null,
      "id": "a500fafa",
      "metadata": {
        "id": "a500fafa"
      },
      "outputs": [],
      "source": [
        "model_path = 'models/model_cvpr.pt'"
      ]
    },
    {
      "cell_type": "markdown",
      "id": "95dd244b",
      "metadata": {
        "id": "95dd244b"
      },
      "source": [
        "## Prepare the dataset"
      ]
    },
    {
      "cell_type": "code",
      "execution_count": null,
      "id": "8ad1edac",
      "metadata": {
        "id": "8ad1edac"
      },
      "outputs": [],
      "source": [
        "csv_data = pd.read_csv(csv_path)\n",
        "dataset = SubGroupLoader3D(data=csv_data[img_header_name].tolist(), labels=None,\n",
        "                                   segmentations=csv_data[segmentation_header_name].tolist(),\n",
        "                                   file_names=None, segmentation_to_one_hot=False,\n",
        "                                   )\n",
        "\n",
        "img_size = dataset._get_img_size()\n",
        "print(f'Image size: {img_size}')"
      ]
    },
    {
      "cell_type": "markdown",
      "id": "a7724d20",
      "metadata": {
        "id": "a7724d20"
      },
      "source": [
        "### Load the model"
      ]
    },
    {
      "cell_type": "code",
      "execution_count": null,
      "id": "2a301533",
      "metadata": {
        "id": "2a301533"
      },
      "outputs": [],
      "source": [
        "device = torch.device('cuda' if torch.cuda.is_available() else 'cpu')\n",
        "mmnet = load_model(model_path, img_size)\n",
        "mmnet = mmnet.to(device)"
      ]
    },
    {
      "cell_type": "markdown",
      "id": "0679bb90",
      "metadata": {
        "id": "0679bb90"
      },
      "source": [
        "### Build the Atlas"
      ]
    },
    {
      "cell_type": "code",
      "execution_count": null,
      "id": "fa0ddbd2",
      "metadata": {
        "id": "fa0ddbd2"
      },
      "outputs": [],
      "source": [
        "atlas, atlas_segmentation = build_atlas(mmnet, dataset, device)"
      ]
    },
    {
      "cell_type": "markdown",
      "id": "3059d836",
      "metadata": {
        "id": "3059d836"
      },
      "source": [
        "### Visualize and Save the atlas"
      ]
    },
    {
      "cell_type": "code",
      "execution_count": null,
      "id": "8603ee13",
      "metadata": {
        "id": "8603ee13"
      },
      "outputs": [],
      "source": [
        "os.makedirs(atlas_save_path, exist_ok=True)\n",
        "nib.save(nib.Nifti1Image(atlas.squeeze().numpy(), np.eye(4)), os.path.join(atlas_save_path, 'atlas.nii.gz'))\n",
        "nib.save(nib.Nifti1Image(atlas_segmentation.squeeze().numpy(), np.eye(4)), os.path.join(atlas_save_path, 'atlas_segmentation.nii.gz'))\n"
      ]
    },
    {
      "cell_type": "code",
      "execution_count": null,
      "id": "439eb4d3",
      "metadata": {
        "vscode": {
          "languageId": "ruby"
        },
        "id": "439eb4d3"
      },
      "outputs": [],
      "source": [
        "# Plot a central slice of the atlas and atlas_segmentation as a 1x2 subfigure\n",
        "atlas = atlas.squeeze()\n",
        "atlas_segmentation = atlas_segmentation.squeeze()\n",
        "fig, axes = plt.subplots(1, 2)\n",
        "# Get the central slice index along the y-axis\n",
        "central_slice = atlas.shape[1] // 2\n",
        "\n",
        "# Plot atlas\n",
        "axes[0].imshow(atlas.squeeze()[:,  central_slice,:], cmap='gray')\n",
        "axes[0].set_title('Atlas')\n",
        "axes[0].axis('off')\n",
        "\n",
        "# Plot atlas_segmentation\n",
        "axes[1].imshow(atlas_segmentation.squeeze()[:,  central_slice,:], cmap='turbo')\n",
        "axes[1].set_title('Atlas Segmentation')\n",
        "axes[1].axis('off')\n",
        "\n",
        "plt.tight_layout()\n",
        "plt.show()"
      ]
    },
    {
      "cell_type": "markdown",
      "id": "365d59e8",
      "metadata": {
        "id": "365d59e8"
      },
      "source": []
    }
  ],
  "metadata": {
    "kernelspec": {
      "display_name": "mapping",
      "language": "python",
      "name": "python3"
    },
    "language_info": {
      "codemirror_mode": {
        "name": "ipython",
        "version": 3
      },
      "file_extension": ".py",
      "mimetype": "text/x-python",
      "name": "python",
      "nbconvert_exporter": "python",
      "pygments_lexer": "ipython3",
      "version": "3.11.5"
    },
    "colab": {
      "provenance": []
    }
  },
  "nbformat": 4,
  "nbformat_minor": 5
}