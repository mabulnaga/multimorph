{
 "cells": [
  {
   "cell_type": "markdown",
   "id": "f0556f48",
   "metadata": {},
   "source": [
    "# MultiMorph 3D Atlas Construction Demo\n"
   ]
  },
  {
   "cell_type": "markdown",
   "id": "f07e5452",
   "metadata": {},
   "source": [
    "This demo will cover building a 3D atlas using a pre-trained model. "
   ]
  },
  {
   "cell_type": "markdown",
   "id": "34ca21c7",
   "metadata": {},
   "source": [
    "#### Load libraries and dependencies"
   ]
  },
  {
   "cell_type": "code",
   "execution_count": null,
   "id": "79421383",
   "metadata": {},
   "outputs": [],
   "source": [
    "!pip install neurite"
   ]
  },
  {
   "cell_type": "code",
   "execution_count": null,
   "id": "c5ed2404",
   "metadata": {},
   "outputs": [],
   "source": [
    "import os\n",
    "os.environ['NEURITE_BACKEND'] = 'pytorch'\n",
    "os.environ['VXM_BACKEND'] = 'pytorch'\n",
    "import time\n",
    "import torch\n",
    "import torch.nn as nn\n",
    "import torch.nn.functional as F\n",
    "from torch.utils.data import DataLoader, Dataset\n",
    "import numpy as np\n",
    "import argparse\n",
    "import models\n",
    "import pandas as pd\n",
    "from dataloader import SubGroupLoader3D, PadtoDivisible\n",
    "import layers\n",
    "from typing import Tuple\n",
    "import nibabel as nib\n",
    "from build_atlas_inference import load_model, build_atlas\n",
    "import matplotlib.pyplot as plt"
   ]
  },
  {
   "cell_type": "markdown",
   "id": "69ad49d1",
   "metadata": {},
   "source": [
    "## Specify the locations of your data\n",
    "The data should be organized as a CSV with two headers, one for the full path to the 3D images and one for the segmentations. The segmentations are optional. We will use a small dataset of 4 OASIS-3 images for demonstration. We also specify the CSV header names pointing to the images, and the segmentations. Note that the segmentations are optional."
   ]
  },
  {
   "cell_type": "code",
   "execution_count": null,
   "id": "cafacc95",
   "metadata": {},
   "outputs": [],
   "source": [
    "csv_path = 'data/metadata.csv'\n",
    "img_header_name = 'img_path'\n",
    "segmentation_header_name = 'segmentation_path'\n",
    "atlas_save_path = 'results/'"
   ]
  },
  {
   "cell_type": "markdown",
   "id": "862d31e1",
   "metadata": {},
   "source": []
  },
  {
   "cell_type": "markdown",
   "id": "20808735",
   "metadata": {},
   "source": [
    "Specify the location of the model weights"
   ]
  },
  {
   "cell_type": "code",
   "execution_count": null,
   "id": "a500fafa",
   "metadata": {},
   "outputs": [],
   "source": [
    "model_path = 'models/model_cvpr.pt'"
   ]
  },
  {
   "cell_type": "markdown",
   "id": "95dd244b",
   "metadata": {},
   "source": [
    "## Prepare the dataset"
   ]
  },
  {
   "cell_type": "code",
   "execution_count": null,
   "id": "8ad1edac",
   "metadata": {},
   "outputs": [],
   "source": [
    "csv_data = pd.read_csv(csv_path)\n",
    "dataset = SubGroupLoader3D(data=csv_data[img_header_name].tolist(), labels=None,\n",
    "                                   segmentations=csv_data[segmentation_header_name],\n",
    "                                   file_names=None, segmentation_to_one_hot=False,\n",
    "                                   )\n",
    "\n",
    "img_size = dataset._get_img_size()\n",
    "print(f'Image size: {img_size}')"
   ]
  },
  {
   "cell_type": "markdown",
   "id": "a7724d20",
   "metadata": {},
   "source": [
    "### Load the model"
   ]
  },
  {
   "cell_type": "code",
   "execution_count": null,
   "id": "2a301533",
   "metadata": {},
   "outputs": [],
   "source": [
    "device = torch.device('cuda' if torch.cuda.is_available() else 'cpu')\n",
    "mmnet = load_model(model_path, img_size)\n",
    "mmnet = mmnet.to(device)"
   ]
  },
  {
   "cell_type": "markdown",
   "id": "0679bb90",
   "metadata": {},
   "source": [
    "### Build the Atlas"
   ]
  },
  {
   "cell_type": "code",
   "execution_count": null,
   "id": "fa0ddbd2",
   "metadata": {},
   "outputs": [],
   "source": [
    "atlas, atlas_segmentation = build_atlas(mmnet, dataset, device)"
   ]
  },
  {
   "cell_type": "markdown",
   "id": "3059d836",
   "metadata": {},
   "source": [
    "### Visualize and Save the atlas"
   ]
  },
  {
   "cell_type": "code",
   "execution_count": null,
   "id": "8603ee13",
   "metadata": {},
   "outputs": [],
   "source": [
    "os.makedirs(atlas_save_path, exist_ok=True)\n",
    "nib.save(nib.Nifti1Image(atlas.squeeze().numpy(), np.eye(4)), os.path.join(atlas_save_path, 'atlas.nii.gz'))\n",
    "nib.save(nib.Nifti1Image(atlas_segmentation.squeeze().numpy(), np.eye(4)), os.path.join(atlas_save_path, 'atlas_segmentation.nii.gz'))\n"
   ]
  },
  {
   "cell_type": "code",
   "execution_count": null,
   "id": "439eb4d3",
   "metadata": {
    "vscode": {
     "languageId": "ruby"
    }
   },
   "outputs": [],
   "source": [
    "# Plot a central slice of the atlas and atlas_segmentation as a 1x2 subfigure\n",
    "fig, axes = plt.subplots(1, 2)\n",
    "# Get the central slice index along the z-axis\n",
    "central_slice = atlas.shape[2] // 2\n",
    "\n",
    "# Plot atlas\n",
    "axes[0].imshow(atlas.squeeze()[:, :, central_slice], cmap='gray')\n",
    "axes[0].set_title('Atlas')\n",
    "axes[0].axis('off')\n",
    "\n",
    "# Plot atlas_segmentation\n",
    "axes[1].imshow(atlas_segmentation.squeeze()[:, :, central_slice], cmap='turbo')\n",
    "axes[1].set_title('Atlas Segmentation')\n",
    "axes[1].axis('off')\n",
    "\n",
    "plt.tight_layout()\n",
    "plt.show()"
   ]
  },
  {
   "cell_type": "markdown",
   "id": "365d59e8",
   "metadata": {},
   "source": []
  }
 ],
 "metadata": {
  "kernelspec": {
   "display_name": "mapping",
   "language": "python",
   "name": "python3"
  },
  "language_info": {
   "codemirror_mode": {
    "name": "ipython",
    "version": 3
   },
   "file_extension": ".py",
   "mimetype": "text/x-python",
   "name": "python",
   "nbconvert_exporter": "python",
   "pygments_lexer": "ipython3",
   "version": "3.11.5"
  }
 },
 "nbformat": 4,
 "nbformat_minor": 5
}
